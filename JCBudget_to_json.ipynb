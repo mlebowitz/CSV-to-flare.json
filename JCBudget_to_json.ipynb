{
 "metadata": {
  "name": "JCBudget_to_json"
 },
 "nbformat": 3,
 "nbformat_minor": 0,
 "worksheets": [
  {
   "cells": [
    {
     "cell_type": "heading",
     "level": 1,
     "metadata": {},
     "source": [
      "JCBudget_to_json"
     ]
    },
    {
     "cell_type": "heading",
     "level": 2,
     "metadata": {},
     "source": [
      "Overview"
     ]
    },
    {
     "cell_type": "markdown",
     "metadata": {},
     "source": [
      "The JCBudget_to_json project converts CSV file into flare json, which can be later used by many [d3 visualizations](http://d3js.org/), including [treemap](http://bl.ocks.org/mbostock/4063582), [trees](http://bl.ocks.org/mbostock/4339083), [radial tree](http://bl.ocks.org/mbostock/4063550), etc."
     ]
    },
    {
     "cell_type": "heading",
     "level": 2,
     "metadata": {},
     "source": [
      "Dependencies"
     ]
    },
    {
     "cell_type": "markdown",
     "metadata": {},
     "source": [
      "The project depens on [pandas](http://pandas.pydata.org/), json and `cluster` function in utils.py."
     ]
    },
    {
     "cell_type": "code",
     "collapsed": false,
     "input": [
      "import json\n",
      "from utils import *"
     ],
     "language": "python",
     "metadata": {},
     "outputs": [],
     "prompt_number": 1
    },
    {
     "cell_type": "heading",
     "level": 2,
     "metadata": {},
     "source": [
      "Parsing the CSV file"
     ]
    },
    {
     "cell_type": "markdown",
     "metadata": {},
     "source": [
      "The input file is a csv file.  The `pandas.io.parsers.read_csv` documentation can be found [here](http://pandas.pydata.org/pandas-docs/stable/generated/pandas.io.parsers.read_csv.html)."
     ]
    },
    {
     "cell_type": "code",
     "collapsed": false,
     "input": [
      "in_file = \"data/JCBudget.csv\"\n",
      "df = pd.io.parsers.read_csv(in_file)"
     ],
     "language": "python",
     "metadata": {},
     "outputs": [],
     "prompt_number": 2
    },
    {
     "cell_type": "heading",
     "level": 2,
     "metadata": {},
     "source": [
      "Data transformation with pandas"
     ]
    },
    {
     "cell_type": "markdown",
     "metadata": {},
     "source": [
      "This bit transforms and sanitizes `dataframe` created by the `pandas.io.parsers.read_csv` into a new dataframe that contains only the information we are interested in visualizing."
     ]
    },
    {
     "cell_type": "code",
     "collapsed": false,
     "input": [
      "cols_to_keep = [\"Department\",\"Division\",\"Program\",\"Line Item\",\"Appropriated \u2013 CY 2013\"]\n",
      "dummies = []\n",
      "\n",
      "df2 = df[[col for col in cols_to_keep if col not in dummies]]"
     ],
     "language": "python",
     "metadata": {},
     "outputs": [],
     "prompt_number": 3
    },
    {
     "cell_type": "code",
     "collapsed": false,
     "input": [
      "df2 = df2.fillna(0)"
     ],
     "language": "python",
     "metadata": {},
     "outputs": [],
     "prompt_number": 4
    },
    {
     "cell_type": "heading",
     "level": 2,
     "metadata": {},
     "source": [
      "Creating dictionary"
     ]
    },
    {
     "cell_type": "markdown",
     "metadata": {},
     "source": [
      "The `cluster` function found in utils.py takes in the final dataframe and returns dictionary with `name` and `children` tags, where the leaves have `name`, `value` and `size`."
     ]
    },
    {
     "cell_type": "code",
     "collapsed": false,
     "input": [
      "r = cluster(df2)"
     ],
     "language": "python",
     "metadata": {},
     "outputs": [],
     "prompt_number": 5
    },
    {
     "cell_type": "heading",
     "level": 2,
     "metadata": {},
     "source": [
      "Build json and save in file"
     ]
    },
    {
     "cell_type": "markdown",
     "metadata": {},
     "source": [
      "The `json.dumps` converts the dictionary to json.  You can print the output and verify json on http://jsonlint.com/."
     ]
    },
    {
     "cell_type": "code",
     "collapsed": false,
     "input": [
      "j = json.dumps({\"name\" : \"JCBudget\", \"children\" : r },indent=2)"
     ],
     "language": "python",
     "metadata": {},
     "outputs": [],
     "prompt_number": 6
    },
    {
     "cell_type": "markdown",
     "metadata": {},
     "source": [
      "Final step, write the json to file."
     ]
    },
    {
     "cell_type": "code",
     "collapsed": false,
     "input": [
      "out_file = \"data/JCBudget.json\"\n",
      "f = open(out_file, 'w')\n",
      "f.write(j)\n",
      "f.close() "
     ],
     "language": "python",
     "metadata": {},
     "outputs": [],
     "prompt_number": 7
    }
   ],
   "metadata": {}
  }
 ]
}